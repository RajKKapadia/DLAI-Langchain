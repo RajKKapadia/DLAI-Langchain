{
 "cells": [
  {
   "attachments": {},
   "cell_type": "markdown",
   "id": "f14c4442-3fc5-4070-9ef2-bb33d30e6b38",
   "metadata": {},
   "source": [
    "# Openai\n",
    "\n",
    "Use the `Openai` functionality to classify user's query into category and a sub-category."
   ]
  },
  {
   "cell_type": "code",
   "execution_count": 1,
   "id": "87f647e2",
   "metadata": {
    "height": 115
   },
   "outputs": [],
   "source": [
    "import os\n",
    "import openai\n",
    "from dotenv import load_dotenv, find_dotenv\n",
    "_ = load_dotenv(find_dotenv())\n",
    "\n",
    "openai.api_key  = os.environ['OPENAI_API_KEY']"
   ]
  },
  {
   "cell_type": "code",
   "execution_count": 2,
   "id": "101624a2",
   "metadata": {
    "height": 200
   },
   "outputs": [],
   "source": [
    "def get_completion_from_messages(messages):\n",
    "    response = openai.ChatCompletion.create(\n",
    "        model='gpt-3.5-turbo',\n",
    "        messages=messages,\n",
    "        temperature=0.0,\n",
    "    )\n",
    "    return response.choices[0].message[\"content\"]"
   ]
  },
  {
   "attachments": {},
   "cell_type": "markdown",
   "id": "d3db09d1-6253-4c9e-9ad1-5a6134df3e6c",
   "metadata": {},
   "source": [
    "#### Classify customer queries to handle different cases"
   ]
  },
  {
   "cell_type": "code",
   "execution_count": 3,
   "id": "8db30f42",
   "metadata": {
    "height": 812
   },
   "outputs": [],
   "source": [
    "delimiter = '#####'\n",
    "system_message = f'''You will be provided with customer service queries. \\\n",
    "The customer service query will be delimited with \\\n",
    "{delimiter} characters.\n",
    "Classify each query into a primary category \\\n",
    "and a secondary category. \n",
    "Provide your output in json format with the \\\n",
    "keys: primary and secondary.\n",
    "\n",
    "Primary categories: Billing, Technical Support, \\\n",
    "Account Management, or General Inquiry.\n",
    "\n",
    "Billing secondary categories:\n",
    "Unsubscribe or upgrade\n",
    "Add a payment method\n",
    "Explanation for charge\n",
    "Dispute a charge\n",
    "\n",
    "Technical Support secondary categories:\n",
    "General troubleshooting\n",
    "Device compatibility\n",
    "Software updates\n",
    "\n",
    "Account Management secondary categories:\n",
    "Password reset\n",
    "Update personal information\n",
    "Close account\n",
    "Account security\n",
    "\n",
    "General Inquiry secondary categories:\n",
    "Product information\n",
    "Pricing\n",
    "Feedback\n",
    "Speak to a human'''"
   ]
  },
  {
   "cell_type": "code",
   "execution_count": 4,
   "id": "e3820e75",
   "metadata": {},
   "outputs": [
    {
     "name": "stdout",
     "output_type": "stream",
     "text": [
      "{\n",
      "  \"primary\": \"General Inquiry\",\n",
      "  \"secondary\": \"Product information\"\n",
      "}\n"
     ]
    }
   ],
   "source": [
    "user_message = 'Tell me more about your flat screen tvs'\n",
    "\n",
    "messages = [\n",
    "    {'role': 'system',\n",
    "     'content': system_message},\n",
    "    {'role': 'user',\n",
    "     'content': f'{delimiter}{user_message}{delimiter}'},\n",
    "]\n",
    "\n",
    "response = get_completion_from_messages(messages)\n",
    "\n",
    "print(response)"
   ]
  },
  {
   "cell_type": "code",
   "execution_count": 5,
   "id": "f7675aed",
   "metadata": {},
   "outputs": [
    {
     "name": "stdout",
     "output_type": "stream",
     "text": [
      "{\n",
      "  \"primary\": \"Account Management\",\n",
      "  \"secondary\": \"Close account\"\n",
      "}\n"
     ]
    }
   ],
   "source": [
    "user_message = 'I want to delete my account'\n",
    "\n",
    "messages = [\n",
    "    {'role': 'system',\n",
    "     'content': system_message},\n",
    "    {'role': 'user',\n",
    "     'content': f'{delimiter}{user_message}{delimiter}'}\n",
    "]\n",
    "\n",
    "response = get_completion_from_messages(messages)\n",
    "\n",
    "print(response)"
   ]
  },
  {
   "attachments": {},
   "cell_type": "markdown",
   "id": "ad9c140d",
   "metadata": {},
   "source": [
    "## Moderation API\n",
    "[OpenAI Moderation API](https://platform.openai.com/docs/guides/moderation)"
   ]
  },
  {
   "cell_type": "code",
   "execution_count": 6,
   "id": "89345669",
   "metadata": {},
   "outputs": [
    {
     "name": "stdout",
     "output_type": "stream",
     "text": [
      "{\n",
      "  \"categories\": {\n",
      "    \"hate\": false,\n",
      "    \"hate/threatening\": false,\n",
      "    \"self-harm\": false,\n",
      "    \"sexual\": false,\n",
      "    \"sexual/minors\": false,\n",
      "    \"violence\": true,\n",
      "    \"violence/graphic\": false\n",
      "  },\n",
      "  \"category_scores\": {\n",
      "    \"hate\": 3.820342e-05,\n",
      "    \"hate/threatening\": 1.0351492e-08,\n",
      "    \"self-harm\": 2.6661223e-07,\n",
      "    \"sexual\": 3.199983e-06,\n",
      "    \"sexual/minors\": 4.7492466e-10,\n",
      "    \"violence\": 0.91965365,\n",
      "    \"violence/graphic\": 1.9921836e-05\n",
      "  },\n",
      "  \"flagged\": true\n",
      "}\n"
     ]
    }
   ],
   "source": [
    "response = openai.Moderation.create(\n",
    "    input=\"I am very pissed off at this moment, I might hit you.\")\n",
    "moderation_output = response[\"results\"][0]\n",
    "print(moderation_output)\n"
   ]
  },
  {
   "cell_type": "code",
   "execution_count": null,
   "id": "11c64166",
   "metadata": {},
   "outputs": [],
   "source": []
  }
 ],
 "metadata": {
  "kernelspec": {
   "display_name": "Python 3 (ipykernel)",
   "language": "python",
   "name": "python3"
  },
  "language_info": {
   "codemirror_mode": {
    "name": "ipython",
    "version": 3
   },
   "file_extension": ".py",
   "mimetype": "text/x-python",
   "name": "python",
   "nbconvert_exporter": "python",
   "pygments_lexer": "ipython3",
   "version": "3.9.12"
  }
 },
 "nbformat": 4,
 "nbformat_minor": 5
}
