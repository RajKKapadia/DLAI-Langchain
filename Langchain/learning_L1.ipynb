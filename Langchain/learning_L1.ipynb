{
 "cells": [
  {
   "attachments": {},
   "cell_type": "markdown",
   "metadata": {},
   "source": [
    "# Langchain\n",
    "\n",
    "You will learn about the following things:\n",
    "\n",
    "* Openai Chatgpt API\n",
    "* Chatgpt API through Langchain\n",
    "* Create effective prompt\n",
    "* Extract infromation from user's query "
   ]
  },
  {
   "attachments": {},
   "cell_type": "markdown",
   "metadata": {},
   "source": [
    "### Python packages\n",
    "\n",
    "You need to install the following Python packages\n",
    "\n",
    "* langchain\n",
    "* openai\n",
    "\n",
    "`pip install langchain openai`"
   ]
  },
  {
   "cell_type": "code",
   "execution_count": 2,
   "metadata": {},
   "outputs": [],
   "source": [
    "import openai\n",
    "import os\n",
    "from dotenv import find_dotenv, load_dotenv"
   ]
  },
  {
   "attachments": {},
   "cell_type": "markdown",
   "metadata": {},
   "source": [
    "### Set the OpenAI API key\n",
    "\n",
    "To use the `oepnai` Python package we need to provide OpenAI API key, you can [Get your API key](https://platform.openai.com/account/api-keys)."
   ]
  },
  {
   "cell_type": "code",
   "execution_count": 5,
   "metadata": {},
   "outputs": [
    {
     "data": {
      "text/plain": [
       "True"
      ]
     },
     "execution_count": 5,
     "metadata": {},
     "output_type": "execute_result"
    }
   ],
   "source": [
    "load_dotenv(find_dotenv())"
   ]
  },
  {
   "cell_type": "code",
   "execution_count": 6,
   "metadata": {},
   "outputs": [],
   "source": [
    "openai.api_key = os.environ['OPENAI_API_KEY']"
   ]
  },
  {
   "attachments": {},
   "cell_type": "markdown",
   "metadata": {},
   "source": [
    "#### Call Chatgpt API"
   ]
  },
  {
   "cell_type": "code",
   "execution_count": 7,
   "metadata": {},
   "outputs": [],
   "source": [
    "def chat_completion(prompt, model='gpt-3.5-turbo'):\n",
    "    messages = [{'role': 'user', 'content': prompt}]\n",
    "    response = openai.ChatCompletion.create(\n",
    "        model=model,\n",
    "        messages=messages,\n",
    "        temperature=0, \n",
    "    )\n",
    "    return response.choices[0].message['content']"
   ]
  },
  {
   "cell_type": "code",
   "execution_count": 8,
   "metadata": {},
   "outputs": [
    {
     "data": {
      "text/plain": [
       "'SOS is a Morse code distress signal used internationally to indicate an emergency situation. It consists of three dots, three dashes, and three dots, with no spaces between them. The letters \"SOS\" do not actually stand for anything, but were chosen because they are easy to transmit and recognize in Morse code.'"
      ]
     },
     "execution_count": 8,
     "metadata": {},
     "output_type": "execute_result"
    }
   ],
   "source": [
    "chat_completion('what is sos?')"
   ]
  },
  {
   "attachments": {},
   "cell_type": "markdown",
   "metadata": {},
   "source": [
    "#### Prompt engineering"
   ]
  },
  {
   "cell_type": "code",
   "execution_count": 41,
   "metadata": {},
   "outputs": [],
   "source": [
    "review = '''\"The Courage to Be Disliked\" by Ichiro Kishimi and Fumitake Koga is a thought-provoking \\\n",
    "and transformative book that challenges conventional wisdom about happiness, interpersonal \\\n",
    "relationships, and personal growth. Drawing on the principles of Alfred Adler, a renowned \\\n",
    "psychologist, this book presents a refreshing and liberating perspective on life.'''\n",
    "\n",
    "style = '''American English in a calm and respectful tone'''"
   ]
  },
  {
   "cell_type": "code",
   "execution_count": 23,
   "metadata": {},
   "outputs": [
    {
     "name": "stdout",
     "output_type": "stream",
     "text": [
      "Translate the text that is delimited by triple backticks into a style that is American English in a calm and respectful tone. \n",
      "text: ```\n",
      "\"The Courage to Be Disliked\" by Ichiro Kishimi and Fumitake Koga is a thought-provoking and transformative book that challenges conventional wisdom about happiness, interpersonal relationships, and personal growth. Drawing on the principles of Alfred Adler, a renowned psychologist, this book presents a refreshing and liberating perspective on life.\n",
      "```\n",
      "\n"
     ]
    }
   ],
   "source": [
    "prompt = f'''Translate the text \\\n",
    "that is delimited by triple backticks \\\n",
    "into a style that is {style}. \\\n",
    "\n",
    "text: ```{review}```'''\n",
    "\n",
    "print(prompt)"
   ]
  },
  {
   "cell_type": "code",
   "execution_count": 24,
   "metadata": {},
   "outputs": [],
   "source": [
    "response = chat_completion(prompt)"
   ]
  },
  {
   "cell_type": "code",
   "execution_count": 25,
   "metadata": {},
   "outputs": [
    {
     "data": {
      "text/plain": [
       "'\"The Courage to Be Disliked\" by Ichiro Kishimi and Fumitake Koga is a truly thought-provoking and transformative book that challenges conventional wisdom about happiness, interpersonal relationships, and personal growth. Drawing on the principles of Alfred Adler, a renowned psychologist, this book presents a refreshing and liberating perspective on life.'"
      ]
     },
     "execution_count": 25,
     "metadata": {},
     "output_type": "execute_result"
    }
   ],
   "source": [
    "response"
   ]
  },
  {
   "attachments": {},
   "cell_type": "markdown",
   "metadata": {},
   "source": [
    "### Langchain"
   ]
  },
  {
   "cell_type": "code",
   "execution_count": 26,
   "metadata": {},
   "outputs": [],
   "source": [
    "from langchain.chat_models import ChatOpenAI"
   ]
  },
  {
   "cell_type": "code",
   "execution_count": 27,
   "metadata": {},
   "outputs": [],
   "source": [
    "chat = ChatOpenAI(temperature=0.0)"
   ]
  },
  {
   "cell_type": "code",
   "execution_count": 28,
   "metadata": {},
   "outputs": [
    {
     "data": {
      "text/plain": [
       "'\"The Courage to Be Disliked\" by Ichiro Kishimi and Fumitake Koga is a book that offers a unique and insightful perspective on happiness, interpersonal relationships, and personal growth. Based on the principles of renowned psychologist Alfred Adler, this thought-provoking and transformative work challenges conventional wisdom and provides a refreshing and liberating approach to life.'"
      ]
     },
     "execution_count": 28,
     "metadata": {},
     "output_type": "execute_result"
    }
   ],
   "source": [
    "chat.predict(prompt)"
   ]
  },
  {
   "attachments": {},
   "cell_type": "markdown",
   "metadata": {},
   "source": [
    "### Prompt engineering"
   ]
  },
  {
   "cell_type": "code",
   "execution_count": 45,
   "metadata": {},
   "outputs": [],
   "source": [
    "template_string = '''Translate the text \\\n",
    "that is delimited by triple backticks \\\n",
    "into a style that is {style}. \\\n",
    "text: ```{text}```'''"
   ]
  },
  {
   "cell_type": "code",
   "execution_count": 46,
   "metadata": {},
   "outputs": [],
   "source": [
    "from langchain.prompts import ChatPromptTemplate"
   ]
  },
  {
   "cell_type": "code",
   "execution_count": 47,
   "metadata": {},
   "outputs": [],
   "source": [
    "prompt_template = ChatPromptTemplate.from_template(\n",
    "    template=template_string\n",
    ")"
   ]
  },
  {
   "cell_type": "code",
   "execution_count": 48,
   "metadata": {},
   "outputs": [
    {
     "data": {
      "text/plain": [
       "ChatPromptTemplate(input_variables=['style', 'text'], output_parser=None, partial_variables={}, messages=[HumanMessagePromptTemplate(prompt=PromptTemplate(input_variables=['style', 'text'], output_parser=None, partial_variables={}, template='Translate the text that is delimited by triple backticks into a style that is {style}. text: ```{text}```', template_format='f-string', validate_template=True), additional_kwargs={})])"
      ]
     },
     "execution_count": 48,
     "metadata": {},
     "output_type": "execute_result"
    }
   ],
   "source": [
    "prompt_template"
   ]
  },
  {
   "cell_type": "code",
   "execution_count": 49,
   "metadata": {},
   "outputs": [],
   "source": [
    "review = '''\"The Courage to Be Disliked\" by Ichiro Kishimi and Fumitake Koga is a thought-provoking \\\n",
    "and transformative book that challenges conventional wisdom about happiness, interpersonal \\\n",
    "relationships, and personal growth. Drawing on the principles of Alfred Adler, a renowned \\\n",
    "psychologist, this book presents a refreshing and liberating perspective on life.'''\n",
    "\n",
    "style = '''American English in a calm and respectful tone'''"
   ]
  },
  {
   "cell_type": "code",
   "execution_count": 52,
   "metadata": {},
   "outputs": [],
   "source": [
    "review_messages = prompt_template.format_messages(style=style, text=review)"
   ]
  },
  {
   "cell_type": "code",
   "execution_count": 53,
   "metadata": {},
   "outputs": [
    {
     "data": {
      "text/plain": [
       "[HumanMessage(content='Translate the text that is delimited by triple backticks into a style that is American English in a calm and respectful tone. text: ```\"The Courage to Be Disliked\" by Ichiro Kishimi and Fumitake Koga is a thought-provoking and transformative book that challenges conventional wisdom about happiness, interpersonal relationships, and personal growth. Drawing on the principles of Alfred Adler, a renowned psychologist, this book presents a refreshing and liberating perspective on life.```', additional_kwargs={}, example=False)]"
      ]
     },
     "execution_count": 53,
     "metadata": {},
     "output_type": "execute_result"
    }
   ],
   "source": [
    "review_messages"
   ]
  },
  {
   "cell_type": "code",
   "execution_count": 54,
   "metadata": {},
   "outputs": [],
   "source": [
    "review_response = chat(review_messages)"
   ]
  },
  {
   "cell_type": "code",
   "execution_count": 55,
   "metadata": {},
   "outputs": [
    {
     "data": {
      "text/plain": [
       "AIMessage(content='\"The Courage to Be Disliked\" by Ichiro Kishimi and Fumitake Koga is a truly thought-provoking and transformative book that challenges conventional wisdom about happiness, interpersonal relationships, and personal growth. Drawing on the principles of Alfred Adler, a renowned psychologist, this book presents a refreshing and liberating perspective on life that is sure to inspire readers.', additional_kwargs={}, example=False)"
      ]
     },
     "execution_count": 55,
     "metadata": {},
     "output_type": "execute_result"
    }
   ],
   "source": [
    "review_response"
   ]
  },
  {
   "attachments": {},
   "cell_type": "markdown",
   "metadata": {},
   "source": [
    "### Extract information"
   ]
  },
  {
   "cell_type": "code",
   "execution_count": 62,
   "metadata": {},
   "outputs": [],
   "source": [
    "user_query = '''I need and iphone 13 max pro 128gb in red color'''"
   ]
  },
  {
   "attachments": {},
   "cell_type": "markdown",
   "metadata": {},
   "source": [
    "#### First way"
   ]
  },
  {
   "cell_type": "code",
   "execution_count": 72,
   "metadata": {},
   "outputs": [],
   "source": [
    "first_template = '''For the following text, extract the following information:\n",
    "\n",
    "color: Was the color of the product. If not found, output -1.\n",
    "\n",
    "product: Was the product. If this information is not found, output -1.\n",
    "\n",
    "space: Was the memory space on the product, If this information is not found, output -1.\n",
    "\n",
    "text: {text}'''"
   ]
  },
  {
   "cell_type": "code",
   "execution_count": 73,
   "metadata": {},
   "outputs": [],
   "source": [
    "from langchain.prompts import ChatPromptTemplate"
   ]
  },
  {
   "cell_type": "code",
   "execution_count": 74,
   "metadata": {},
   "outputs": [
    {
     "name": "stdout",
     "output_type": "stream",
     "text": [
      "input_variables=['text'] output_parser=None partial_variables={} messages=[HumanMessagePromptTemplate(prompt=PromptTemplate(input_variables=['text'], output_parser=None, partial_variables={}, template='For the following text, extract the following information:\\n\\ncolor: Was the color of the product. If not found, output -1.\\n\\nproduct: Was the product. If this information is not found, output -1.\\n\\nspace: Was the memory space on the product, If this information is not found, output -1.\\n\\ntext: {text}', template_format='f-string', validate_template=True), additional_kwargs={})]\n"
     ]
    }
   ],
   "source": [
    "prompt_template = ChatPromptTemplate.from_template(first_template)\n",
    "print(prompt_template)"
   ]
  },
  {
   "cell_type": "code",
   "execution_count": 75,
   "metadata": {},
   "outputs": [
    {
     "name": "stdout",
     "output_type": "stream",
     "text": [
      "color: red\n",
      "product: iPhone 13 Max Pro\n",
      "space: 128gb\n"
     ]
    }
   ],
   "source": [
    "messages = prompt_template.format_messages(text=user_query, format_instructions=format_instructions)\n",
    "chat = ChatOpenAI(temperature=0.0)\n",
    "response = chat(messages)\n",
    "print(response.content)"
   ]
  },
  {
   "cell_type": "code",
   "execution_count": 76,
   "metadata": {},
   "outputs": [
    {
     "name": "stdout",
     "output_type": "stream",
     "text": [
      "<class 'str'>\n"
     ]
    }
   ],
   "source": [
    "print(type(response.content))"
   ]
  },
  {
   "attachments": {},
   "cell_type": "markdown",
   "metadata": {},
   "source": [
    "#### Second way"
   ]
  },
  {
   "cell_type": "code",
   "execution_count": 77,
   "metadata": {},
   "outputs": [],
   "source": [
    "from langchain.output_parsers import ResponseSchema\n",
    "from langchain.output_parsers import StructuredOutputParser"
   ]
  },
  {
   "cell_type": "code",
   "execution_count": 79,
   "metadata": {},
   "outputs": [],
   "source": [
    "color_schema = ResponseSchema(\n",
    "    name='color',\n",
    "    description='Was the color of the product. If not found, output -1.'\n",
    ")\n",
    "\n",
    "product_schema = ResponseSchema(\n",
    "    name='product',\n",
    "    description='Was the product. If this information is not found, output -1.'\n",
    ")\n",
    "\n",
    "space_schema = ResponseSchema(\n",
    "    name='space',\n",
    "    description='Was the memory space on the product, If this information is not found, output -1.'\n",
    ")\n",
    "\n",
    "response_schemas = [color_schema,\n",
    "                    product_schema,\n",
    "                    space_schema]"
   ]
  },
  {
   "cell_type": "code",
   "execution_count": 80,
   "metadata": {},
   "outputs": [],
   "source": [
    "output_parser = StructuredOutputParser.from_response_schemas(response_schemas)"
   ]
  },
  {
   "cell_type": "code",
   "execution_count": 81,
   "metadata": {},
   "outputs": [
    {
     "data": {
      "text/plain": [
       "StructuredOutputParser(response_schemas=[ResponseSchema(name='color', description='Was the color of the product. If not found, output -1.'), ResponseSchema(name='product', description='Was the product. If this information is not found, output -1.'), ResponseSchema(name='space', description='Was the memory space on the product, If this information is not found, output -1.')])"
      ]
     },
     "execution_count": 81,
     "metadata": {},
     "output_type": "execute_result"
    }
   ],
   "source": [
    "output_parser"
   ]
  },
  {
   "cell_type": "code",
   "execution_count": 82,
   "metadata": {},
   "outputs": [],
   "source": [
    "format_instructions = output_parser.get_format_instructions()"
   ]
  },
  {
   "cell_type": "code",
   "execution_count": 83,
   "metadata": {},
   "outputs": [
    {
     "data": {
      "text/plain": [
       "'The output should be a markdown code snippet formatted in the following schema, including the leading and trailing \"\\\\`\\\\`\\\\`json\" and \"\\\\`\\\\`\\\\`\":\\n\\n```json\\n{\\n\\t\"color\": string  // Was the color of the product. If not found, output -1.\\n\\t\"product\": string  // Was the product. If this information is not found, output -1.\\n\\t\"space\": string  // Was the memory space on the product, If this information is not found, output -1.\\n}\\n```'"
      ]
     },
     "execution_count": 83,
     "metadata": {},
     "output_type": "execute_result"
    }
   ],
   "source": [
    "format_instructions"
   ]
  },
  {
   "cell_type": "code",
   "execution_count": 84,
   "metadata": {},
   "outputs": [],
   "source": [
    "second_template = '''For the following text, extract the following information:\n",
    "\n",
    "color: Was the color of the product. If not found, output -1.\n",
    "\n",
    "product: Was the product. If this information is not found, output -1.\n",
    "\n",
    "space: Was the memory space on the product, If this information is not found, output -1.\n",
    "\n",
    "text: {text}\n",
    "{format_instructions}'''"
   ]
  },
  {
   "cell_type": "code",
   "execution_count": 85,
   "metadata": {},
   "outputs": [],
   "source": [
    "prompt = ChatPromptTemplate.from_template(template=second_template)"
   ]
  },
  {
   "cell_type": "code",
   "execution_count": 90,
   "metadata": {},
   "outputs": [],
   "source": [
    "messages = prompt.format_messages(text=user_query, \n",
    "                                format_instructions=format_instructions)"
   ]
  },
  {
   "cell_type": "code",
   "execution_count": 91,
   "metadata": {},
   "outputs": [
    {
     "data": {
      "text/plain": [
       "[HumanMessage(content='For the following text, extract the following information:\\n\\ncolor: Was the color of the product. If not found, output -1.\\n\\nproduct: Was the product. If this information is not found, output -1.\\n\\nspace: Was the memory space on the product, If this information is not found, output -1.\\n\\ntext: I need and iphone 13 max pro 128gb in red color\\nThe output should be a markdown code snippet formatted in the following schema, including the leading and trailing \"\\\\`\\\\`\\\\`json\" and \"\\\\`\\\\`\\\\`\":\\n\\n```json\\n{\\n\\t\"color\": string  // Was the color of the product. If not found, output -1.\\n\\t\"product\": string  // Was the product. If this information is not found, output -1.\\n\\t\"space\": string  // Was the memory space on the product, If this information is not found, output -1.\\n}\\n```', additional_kwargs={}, example=False)]"
      ]
     },
     "execution_count": 91,
     "metadata": {},
     "output_type": "execute_result"
    }
   ],
   "source": [
    "messages"
   ]
  },
  {
   "cell_type": "code",
   "execution_count": 92,
   "metadata": {},
   "outputs": [],
   "source": [
    "response = chat(messages)"
   ]
  },
  {
   "cell_type": "code",
   "execution_count": 93,
   "metadata": {},
   "outputs": [
    {
     "name": "stdout",
     "output_type": "stream",
     "text": [
      "```json\n",
      "{\n",
      "\t\"color\": \"red\",\n",
      "\t\"product\": \"iphone 13 max pro\",\n",
      "\t\"space\": \"128gb\"\n",
      "}\n",
      "```\n"
     ]
    }
   ],
   "source": [
    "print(response.content)"
   ]
  },
  {
   "cell_type": "code",
   "execution_count": 94,
   "metadata": {},
   "outputs": [
    {
     "name": "stdout",
     "output_type": "stream",
     "text": [
      "<class 'str'>\n"
     ]
    }
   ],
   "source": [
    "print(type(response.content))"
   ]
  },
  {
   "cell_type": "code",
   "execution_count": 95,
   "metadata": {},
   "outputs": [],
   "source": [
    "output_dict = output_parser.parse(response.content)"
   ]
  },
  {
   "cell_type": "code",
   "execution_count": 96,
   "metadata": {},
   "outputs": [
    {
     "name": "stdout",
     "output_type": "stream",
     "text": [
      "{'color': 'red', 'product': 'iphone 13 max pro', 'space': '128gb'}\n"
     ]
    }
   ],
   "source": [
    "print(output_dict)"
   ]
  },
  {
   "cell_type": "code",
   "execution_count": 97,
   "metadata": {},
   "outputs": [
    {
     "name": "stdout",
     "output_type": "stream",
     "text": [
      "<class 'dict'>\n"
     ]
    }
   ],
   "source": [
    "print(type(output_dict))"
   ]
  },
  {
   "cell_type": "code",
   "execution_count": null,
   "metadata": {},
   "outputs": [],
   "source": []
  }
 ],
 "metadata": {
  "kernelspec": {
   "display_name": "venv",
   "language": "python",
   "name": "python3"
  },
  "language_info": {
   "codemirror_mode": {
    "name": "ipython",
    "version": 3
   },
   "file_extension": ".py",
   "mimetype": "text/x-python",
   "name": "python",
   "nbconvert_exporter": "python",
   "pygments_lexer": "ipython3",
   "version": "3.9.12"
  },
  "orig_nbformat": 4
 },
 "nbformat": 4,
 "nbformat_minor": 2
}
