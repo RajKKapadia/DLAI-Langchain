{
 "cells": [
  {
   "attachments": {},
   "cell_type": "markdown",
   "id": "52824b89-532a-4e54-87e9-1410813cd39e",
   "metadata": {},
   "source": [
    "# LangChain: Q&A over Documents\n",
    "\n",
    "An example might be a tool that would allow you to query a product catalog for items of interest."
   ]
  },
  {
   "attachments": {},
   "cell_type": "markdown",
   "id": "a8300695",
   "metadata": {},
   "source": [
    "#### Install required packages"
   ]
  },
  {
   "cell_type": "code",
   "execution_count": null,
   "id": "10c1f7b9",
   "metadata": {
    "height": 30
   },
   "outputs": [],
   "source": [
    "# %pip install docarray tiktoken pypdf langchain openai python-dotenv"
   ]
  },
  {
   "cell_type": "code",
   "execution_count": 30,
   "id": "b7ed03ed-1322-49e3-b2a2-33e94fb592ef",
   "metadata": {
    "height": 81,
    "tags": []
   },
   "outputs": [],
   "source": [
    "from dotenv import load_dotenv, find_dotenv\n",
    "_ = load_dotenv(find_dotenv())"
   ]
  },
  {
   "cell_type": "code",
   "execution_count": 31,
   "metadata": {},
   "outputs": [],
   "source": [
    "import os \n",
    "\n",
    "import openai\n",
    "\n",
    "openai.api_key = os.environ['OPENAI_API_KEY']"
   ]
  },
  {
   "cell_type": "code",
   "execution_count": 32,
   "id": "974acf8e-8f88-42de-88f8-40a82cb58e8b",
   "metadata": {
    "height": 98
   },
   "outputs": [],
   "source": [
    "from langchain.chains import RetrievalQA\n",
    "from langchain.chat_models import ChatOpenAI\n",
    "from langchain.document_loaders import PyPDFLoader\n",
    "from langchain.vectorstores import DocArrayInMemorySearch"
   ]
  },
  {
   "attachments": {},
   "cell_type": "markdown",
   "id": "d7a5b052",
   "metadata": {},
   "source": [
    "#### Load the document"
   ]
  },
  {
   "cell_type": "code",
   "execution_count": 33,
   "id": "7249846e",
   "metadata": {
    "height": 47
   },
   "outputs": [],
   "source": [
    "file = 'sample.pdf'\n",
    "loader = PyPDFLoader(file_path=file)"
   ]
  },
  {
   "cell_type": "code",
   "execution_count": 34,
   "id": "89847e54",
   "metadata": {},
   "outputs": [
    {
     "data": {
      "text/plain": [
       "<langchain.document_loaders.pdf.PyPDFLoader at 0x7ff8566ee8b0>"
      ]
     },
     "execution_count": 34,
     "metadata": {},
     "output_type": "execute_result"
    }
   ],
   "source": [
    "loader"
   ]
  },
  {
   "attachments": {},
   "cell_type": "markdown",
   "id": "9f595391",
   "metadata": {},
   "source": [
    "#### First way"
   ]
  },
  {
   "cell_type": "code",
   "execution_count": 35,
   "id": "5bfaba30",
   "metadata": {
    "height": 30
   },
   "outputs": [],
   "source": [
    "from langchain.indexes import VectorstoreIndexCreator"
   ]
  },
  {
   "cell_type": "code",
   "execution_count": 36,
   "id": "9e200726",
   "metadata": {
    "height": 64
   },
   "outputs": [],
   "source": [
    "index = VectorstoreIndexCreator(\n",
    "    vectorstore_cls=DocArrayInMemorySearch\n",
    ").from_loaders([loader])"
   ]
  },
  {
   "cell_type": "code",
   "execution_count": 38,
   "id": "cfd0cc37",
   "metadata": {
    "height": 30
   },
   "outputs": [],
   "source": [
    "query = 'what are the seven spiritual laws success..?'\n",
    "response = index.query(query)"
   ]
  },
  {
   "cell_type": "code",
   "execution_count": 39,
   "id": "ae21f1ff",
   "metadata": {
    "height": 30,
    "scrolled": true
   },
   "outputs": [
    {
     "name": "stdout",
     "output_type": "stream",
     "text": [
      " The seven spiritual laws of success are the Law of Pure Potentiality, the Law of Giving, the Law of Karma, the Law of Least Effort, the Law of Intention and Desire, the Law of Detachment, and the Law of Dharma.\n"
     ]
    }
   ],
   "source": [
    "print(response)"
   ]
  },
  {
   "attachments": {},
   "cell_type": "markdown",
   "id": "7d3733a0",
   "metadata": {},
   "source": [
    "#### Second way"
   ]
  },
  {
   "cell_type": "code",
   "execution_count": 40,
   "id": "6c2164b5",
   "metadata": {
    "height": 30
   },
   "outputs": [],
   "source": [
    "docs = loader.load()"
   ]
  },
  {
   "cell_type": "code",
   "execution_count": 41,
   "id": "4ee7455d",
   "metadata": {},
   "outputs": [
    {
     "data": {
      "text/plain": [
       "39"
      ]
     },
     "execution_count": 41,
     "metadata": {},
     "output_type": "execute_result"
    }
   ],
   "source": [
    "len(docs)"
   ]
  },
  {
   "cell_type": "code",
   "execution_count": 42,
   "id": "4a977f44",
   "metadata": {
    "height": 30
   },
   "outputs": [
    {
     "data": {
      "text/plain": [
       "Document(page_content='Deepak Chopra\\nThe Seven\\nspiritual\\nlaws\\nof\\nSuccess', metadata={'source': 'sample.pdf', 'page': 0})"
      ]
     },
     "execution_count": 42,
     "metadata": {},
     "output_type": "execute_result"
    }
   ],
   "source": [
    "docs[0]"
   ]
  },
  {
   "cell_type": "code",
   "execution_count": 43,
   "id": "e875693a",
   "metadata": {
    "height": 47
   },
   "outputs": [],
   "source": [
    "from langchain.embeddings import OpenAIEmbeddings\n",
    "embeddings = OpenAIEmbeddings()"
   ]
  },
  {
   "cell_type": "code",
   "execution_count": 44,
   "id": "779bec75",
   "metadata": {
    "height": 30
   },
   "outputs": [],
   "source": [
    "embed = embeddings.embed_query(\"what are the seven spiritual laws success..?\")"
   ]
  },
  {
   "cell_type": "code",
   "execution_count": 45,
   "id": "699aaaf9",
   "metadata": {
    "height": 30
   },
   "outputs": [
    {
     "name": "stdout",
     "output_type": "stream",
     "text": [
      "1536\n"
     ]
    }
   ],
   "source": [
    "print(len(embed))"
   ]
  },
  {
   "cell_type": "code",
   "execution_count": 46,
   "id": "9d00d346",
   "metadata": {
    "height": 30
   },
   "outputs": [
    {
     "name": "stdout",
     "output_type": "stream",
     "text": [
      "[0.015392657369375229, 0.00533225666731596, 0.002493275096639991, -0.023815317079424858, -0.01982049085199833]\n"
     ]
    }
   ],
   "source": [
    "print(embed[:5])"
   ]
  },
  {
   "cell_type": "code",
   "execution_count": 47,
   "id": "27ad0bb0",
   "metadata": {
    "height": 81
   },
   "outputs": [],
   "source": [
    "db = DocArrayInMemorySearch.from_documents(\n",
    "    docs, \n",
    "    embeddings\n",
    ")"
   ]
  },
  {
   "cell_type": "code",
   "execution_count": 49,
   "id": "0329bfd5",
   "metadata": {
    "height": 30
   },
   "outputs": [],
   "source": [
    "query = 'what are the seven spiritual laws success..?'"
   ]
  },
  {
   "cell_type": "code",
   "execution_count": 50,
   "id": "7909c6b7",
   "metadata": {
    "height": 30
   },
   "outputs": [],
   "source": [
    "docs = db.similarity_search(query)"
   ]
  },
  {
   "cell_type": "code",
   "execution_count": 52,
   "id": "43321853",
   "metadata": {
    "height": 30
   },
   "outputs": [
    {
     "data": {
      "text/plain": [
       "4"
      ]
     },
     "execution_count": 52,
     "metadata": {},
     "output_type": "execute_result"
    }
   ],
   "source": [
    "len(docs)"
   ]
  },
  {
   "cell_type": "code",
   "execution_count": 53,
   "id": "6eba90b5",
   "metadata": {
    "height": 30
   },
   "outputs": [
    {
     "data": {
      "text/plain": [
       "Document(page_content='Deepak Chopra\\nThe Seven\\nspiritual\\nlaws\\nof\\nSuccess', metadata={'source': 'sample.pdf', 'page': 0})"
      ]
     },
     "execution_count": 53,
     "metadata": {},
     "output_type": "execute_result"
    }
   ],
   "source": [
    "docs[0]"
   ]
  },
  {
   "cell_type": "code",
   "execution_count": 56,
   "id": "0625f5e8",
   "metadata": {
    "height": 47
   },
   "outputs": [],
   "source": [
    "llm = ChatOpenAI(temperature = 0.0)"
   ]
  },
  {
   "cell_type": "code",
   "execution_count": 57,
   "id": "a573f58a",
   "metadata": {
    "height": 62
   },
   "outputs": [],
   "source": [
    "qdocs = \"\".join([docs[i].page_content for i in range(len(docs))])"
   ]
  },
  {
   "cell_type": "code",
   "execution_count": 59,
   "id": "703c0352",
   "metadata": {},
   "outputs": [
    {
     "data": {
      "text/plain": [
       "'Deepak Chopra\\nThe Seven\\nspiritual\\nlaws\\nof\\nSuccessINTRODUCTION\\nAlthough this book is titled The Seven Spiritual Laws of Success,  it could also be called The\\nSeven Spiritual Laws of Life,  because these are the same principles that nature uses to create\\neverything in material existence \\x97 everything we can see, hear, smell, taste, or touch.\\nIn my book, Creating Affluence: Wealth Consciousness in the Field of All Possibilities,  I\\nhave outlined the steps to wealth consciousness based on a true understanding of the workingsof nature. The Seven Spiritual Laws of  Success form the essence of this teaching. When this\\nknowledge is incorporated in your consciousness, it will give you the ability to create unlimited\\nwealth with effortless ease, and to experience success in every endeavour.\\nSuccess in life could be defined as the continued expansion of happiness and the progres-\\nsive realization of worthy goals. Success is the ability to fulfill your desires with effortless ease.And yet success, including the creation of wealth, has always been considered to be a process\\nthat requires hard work, and it is often considered to be at the expense of others. We need a\\nmore spiritual approach to success and to affluence, which is the abundant flow of all goodthings to you. With the knowledge and practice of spiritual law, we put ourselves in harmonywith nature and create with carefulness, joy, and love.\\nThere are many aspects to success; material wealth is only one component. Moreover,\\nsuccess is a journey, not a destination. Material abundance, in all its expressions, happens to be\\none of those things that makes the journey more enjoyable. But success also includes goodhealth, energy and enthusiasm for life, fulfilling relationships, creative freedom, emotional andpsychological stability, a sense of well-being, and peace of mind.\\nEven with the experience of all these things, we will remain unfulfilled unless we nurture the\\nseeds of divinity inside us. In reality, we are divinity in disguise, and the gods and goddesses in\\nembryo that are contained within us seek to be fully materialized. True success is therefore the\\nexperience of the miraculous. It is the unfolding of the divinity within us. It is the perception ofdivinity wherever we go, in whatever we perceive \\x97 in the eyes of a child, in the beauty of aflower, in the flight of a bird. When we begin to experience our life as the miraculous expressionof divinity \\x97 not occasionally, but all the time \\x97 then we will know the true meaning of success.\\nBefore defining the seven spiritual laws, let us understand the concept of law. Law is the\\nprocess by which the unmanifest becomes the manifest; it\\x92s the process by which the observerbecomes the observed; it\\x92s the process by which the seer becomes the scenery; it\\x92s the processthrough which the dreamer manifests the dream.\\nAll of creation, everything that exists in the physical world, is the result of the unmanifest\\ntransforming itself into the manifest. Everything that we behold comes from the unknown. Our\\nphysical body, the physical universe \\x97 anything and everything that we can perceive throughour senses \\x97 is the transformation of the unmanifest, unknown, and invisible into the manifest,known, and visible.\\nThe physical universe is nothing other than the Self curving back within Itself to experience\\nItself as spirit, mind, and physical matter. In other words, all processes of creation are processes\\nthrough which the Self or divinity expresses Itself. Consciousness in motion expresses itself asthe objects of the universe in the eternal dance of life.\\nThe source of all creation is divinity (or the spirit); the process of creation is divinity in\\nmotion (or the mind); and the object of creation is the physical universe (which includes the\\nphysical body).Dear Friend:\\nIn The Seven Spiritual Laws of Success,  I describe the virtues and associated principles that\\nhave helped me and countless others to achieve spiritual satisfaction and material success. I amwriting to invite you to join me, and potentially millions of others worldwide, in the  Global\\nNetwork for Spiritual  Success, which will be based on the daily practice of these powerful\\nguiding principles.\\nParticipation in the Network is open to anyone who chooses to practice The Seven Spir-\\nitual Laws. I have found it particularly fulfilling to concentrate on one law each day of the week,beginning on Sunday with the Law of Pure Potentiality  and concluding on Saturday with the\\nLaw of Dharma.  Having your attention on a spiritual law will completely transform your life, as\\nit has mine, and if we collectively put our attention on the same law each day, we could soon\\nreach a critical mass of successful people that could transform life on planet earth\\nWith my staff and friends, I suggest starting a study group of family, friends, or co-workers\\nwhere members meet once a week to discuss their experiences with the spiritual laws.\\nTo actively participate in the  Global Network, please visit our website at  www.chopra.com\\nfor inspirational and informational resources to encourage, support and deepen your personal\\ngrowth.\\nThe establishment of the Network represents the fulfillment of one of my most cherished\\ndreams. By participating in the Global Network and practicing The Seven Spiritual Laws, Iknow that you will achieve spiritual success and the fulfillment of your desires. I can wish you nogreater blessing.\\nWith love and best wishes,\\nDeepak ChopraThese three components of reality \\x97 spirit, mind, and body, or observer, the process of\\nobserving, and the observed \\x97 are essentially the same thing. They all come from the same\\nplace: the field of pure potentiality which is purely unmanifest.\\nThe physical laws of the universe are actually this whole process of divinity in motion, or\\nconsciousness in motion. When we understand these laws and apply them in our lives, anythingwe want can be created, because the same laws that nature uses to create a forest, or a galaxy,or a star, or a human body can also bring about the fulfillment of our deepest desires.\\nNow let\\x92s go over The Seven Spiritual Laws of Success  and see how we can apply them in\\nour lives.'"
      ]
     },
     "execution_count": 59,
     "metadata": {},
     "output_type": "execute_result"
    }
   ],
   "source": [
    "qdocs"
   ]
  },
  {
   "cell_type": "code",
   "execution_count": 60,
   "id": "14682d95",
   "metadata": {
    "height": 79
   },
   "outputs": [],
   "source": [
    "response = llm.call_as_llm(f'{qdocs} what are the seven spiritual laws success..?') "
   ]
  },
  {
   "cell_type": "code",
   "execution_count": 61,
   "id": "8bba545b",
   "metadata": {
    "height": 30
   },
   "outputs": [
    {
     "name": "stdout",
     "output_type": "stream",
     "text": [
      "1. The Law of Pure Potentiality: This law states that our essential nature is pure consciousness, and we have unlimited potential to create anything we desire. To access this potential, we must practice silence, meditation, and non-judgment.\n",
      "\n",
      "2. The Law of Giving: This law states that the universe operates through dynamic exchange, and the more we give, the more we receive. Giving can take many forms, including time, money, and love.\n",
      "\n",
      "3. The Law of Karma: This law states that every action we take has a consequence, and we must take responsibility for our actions. By choosing actions that bring happiness and success to others, we create positive karma for ourselves.\n",
      "\n",
      "4. The Law of Least Effort: This law states that we can achieve our goals with minimal effort by aligning ourselves with the natural flow of the universe. This means accepting things as they are, taking responsibility for our situation, and not forcing things to happen.\n",
      "\n",
      "5. The Law of Intention and Desire: This law states that our intentions and desires have the power to manifest in the physical world. By focusing our attention on what we want, we can attract it into our lives.\n",
      "\n",
      "6. The Law of Detachment: This law states that we must detach from the outcome of our desires and trust that the universe will bring us what we need. This means letting go of attachment to specific outcomes and being open to all possibilities.\n",
      "\n",
      "7. The Law of Dharma: This law states that we all have a unique purpose in life, and by fulfilling that purpose, we can achieve true success and happiness. To discover our dharma, we must listen to our inner voice and follow our passions.\n"
     ]
    }
   ],
   "source": [
    "print(response)"
   ]
  },
  {
   "attachments": {},
   "cell_type": "markdown",
   "id": "80d5ef79",
   "metadata": {},
   "source": [
    "Third way"
   ]
  },
  {
   "cell_type": "code",
   "execution_count": 62,
   "id": "45187058",
   "metadata": {},
   "outputs": [],
   "source": [
    "retriever = db.as_retriever()"
   ]
  },
  {
   "cell_type": "code",
   "execution_count": 63,
   "id": "126d19ed",
   "metadata": {},
   "outputs": [
    {
     "data": {
      "text/plain": [
       "VectorStoreRetriever(vectorstore=<langchain.vectorstores.docarray.in_memory.DocArrayInMemorySearch object at 0x7ff854e3b3d0>, search_type='similarity', search_kwargs={})"
      ]
     },
     "execution_count": 63,
     "metadata": {},
     "output_type": "execute_result"
    }
   ],
   "source": [
    "retriever"
   ]
  },
  {
   "cell_type": "code",
   "execution_count": 64,
   "id": "32c94d22",
   "metadata": {
    "height": 115
   },
   "outputs": [],
   "source": [
    "qa_stuff = RetrievalQA.from_chain_type(\n",
    "    llm=llm, \n",
    "    chain_type=\"stuff\", \n",
    "    retriever=retriever, \n",
    "    verbose=True\n",
    ")"
   ]
  },
  {
   "cell_type": "code",
   "execution_count": 65,
   "id": "e4769316",
   "metadata": {
    "height": 62
   },
   "outputs": [],
   "source": [
    "query = \"what are the seven spiritual laws success..?\""
   ]
  },
  {
   "cell_type": "code",
   "execution_count": 66,
   "id": "1fc3c2f3",
   "metadata": {
    "height": 30
   },
   "outputs": [
    {
     "name": "stdout",
     "output_type": "stream",
     "text": [
      "\n",
      "\n",
      "\u001b[1m> Entering new RetrievalQA chain...\u001b[0m\n",
      "\n",
      "\u001b[1m> Finished chain.\u001b[0m\n"
     ]
    }
   ],
   "source": [
    "response = qa_stuff.run(query)"
   ]
  },
  {
   "cell_type": "code",
   "execution_count": 67,
   "id": "fba1a5db",
   "metadata": {
    "height": 30
   },
   "outputs": [
    {
     "name": "stdout",
     "output_type": "stream",
     "text": [
      "The Seven Spiritual Laws of Success are:\n",
      "\n",
      "1. The Law of Pure Potentiality\n",
      "2. The Law of Giving\n",
      "3. The Law of Karma or Cause and Effect\n",
      "4. The Law of Least Effort\n",
      "5. The Law of Intention and Desire\n",
      "6. The Law of Detachment\n",
      "7. The Law of Dharma or Purpose in Life\n"
     ]
    }
   ],
   "source": [
    "print(response)"
   ]
  },
  {
   "attachments": {},
   "cell_type": "markdown",
   "id": "402cd721",
   "metadata": {},
   "source": [
    "#### First way extention"
   ]
  },
  {
   "cell_type": "code",
   "execution_count": 68,
   "id": "2cffb19f",
   "metadata": {
    "height": 81
   },
   "outputs": [],
   "source": [
    "index = VectorstoreIndexCreator(\n",
    "    vectorstore_cls=DocArrayInMemorySearch,\n",
    "    embedding=embeddings,\n",
    ").from_loaders([loader])"
   ]
  },
  {
   "cell_type": "code",
   "execution_count": 69,
   "id": "a9b58916",
   "metadata": {
    "height": 30
   },
   "outputs": [
    {
     "data": {
      "text/plain": [
       "VectorStoreIndexWrapper(vectorstore=<langchain.vectorstores.docarray.in_memory.DocArrayInMemorySearch object at 0x7ff85686f1c0>)"
      ]
     },
     "execution_count": 69,
     "metadata": {},
     "output_type": "execute_result"
    }
   ],
   "source": [
    "index"
   ]
  },
  {
   "cell_type": "code",
   "execution_count": 70,
   "id": "d590b337",
   "metadata": {
    "height": 30
   },
   "outputs": [],
   "source": [
    "query = 'what are the seven spiritual laws success..?'\n",
    "response = index.query(query)"
   ]
  },
  {
   "cell_type": "code",
   "execution_count": 71,
   "id": "b2cb587c",
   "metadata": {
    "height": 30
   },
   "outputs": [
    {
     "name": "stdout",
     "output_type": "stream",
     "text": [
      " The seven spiritual laws of success are the Law of Pure Potentiality, the Law of Giving, the Law of Karma, the Law of Least Effort, the Law of Intention and Desire, the Law of Detachment, and the Law of Dharma.\n"
     ]
    }
   ],
   "source": [
    "print(response)"
   ]
  },
  {
   "cell_type": "code",
   "execution_count": null,
   "id": "1ec249f1",
   "metadata": {
    "height": 30
   },
   "outputs": [],
   "source": []
  },
  {
   "cell_type": "code",
   "execution_count": null,
   "id": "9d64f166",
   "metadata": {
    "height": 30
   },
   "outputs": [],
   "source": []
  },
  {
   "cell_type": "code",
   "execution_count": null,
   "id": "21322e7e",
   "metadata": {
    "height": 30
   },
   "outputs": [],
   "source": []
  }
 ],
 "metadata": {
  "kernelspec": {
   "display_name": "Python 3 (ipykernel)",
   "language": "python",
   "name": "python3"
  },
  "language_info": {
   "codemirror_mode": {
    "name": "ipython",
    "version": 3
   },
   "file_extension": ".py",
   "mimetype": "text/x-python",
   "name": "python",
   "nbconvert_exporter": "python",
   "pygments_lexer": "ipython3",
   "version": "3.9.12"
  }
 },
 "nbformat": 4,
 "nbformat_minor": 5
}
